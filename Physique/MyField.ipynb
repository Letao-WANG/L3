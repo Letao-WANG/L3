{
 "cells": [
  {
   "cell_type": "code",
   "execution_count": null,
   "id": "4b016ac8",
   "metadata": {},
   "outputs": [],
   "source": [
    "from manim import *"
   ]
  },
  {
   "cell_type": "code",
   "execution_count": null,
   "id": "bb86e907",
   "metadata": {},
   "outputs": [],
   "source": [
    "class Current(VGroup):\n",
    "    def __init__(\n",
    "        self, point: Sequence[float] = ORIGIN, magnitude=1, direction=OUT, **kwargs\n",
    "    ):\n",
    "        if np.all(direction == OUT) or np.all(direction == IN):\n",
    "            self.direction = direction\n",
    "        else:\n",
    "            raise ValueError(\"only IN and OUT are supported.\")\n",
    "        self.magnitude = magnitude\n",
    "        if np.all(direction == IN):\n",
    "            label = VGroup(\n",
    "                Line(ORIGIN, UR).move_to(ORIGIN),\n",
    "                Line(ORIGIN, UL).move_to(ORIGIN),\n",
    "            )\n",
    "            self.magnitude *= -1\n",
    "        else:\n",
    "            label = Dot(radius=0.2)\n",
    "        super().__init__(**kwargs)\n",
    "        self.add(Circle(color=WHITE), label).scale(0.2).shift(point)\n",
    "\n",
    "\n",
    "class MyField(ArrowVectorField):\n",
    "    def __init__(self, *currents: Current, **kwargs):\n",
    "        super().__init__(lambda p: self.field_func(p, *currents), **kwargs)\n",
    "\n",
    "    def field_func(self, p, *currents):\n",
    "        direction = np.zeros(3)\n",
    "        pos = []\n",
    "        for current in currents:\n",
    "            p0 = current.get_center()\n",
    "            pos.append(p0)\n",
    "            mag = current.magnitude\n",
    "            x, y, z = p - p0\n",
    "            \n",
    "            dist = (x ** 2 + y ** 2) ** 1.5\n",
    "            if any((p - p0) ** 2 > 0.05):\n",
    "                direction += mag * np.array([- y / dist, x / dist, 0])\n",
    "\n",
    "        return direction"
   ]
  },
  {
   "cell_type": "code",
   "execution_count": null,
   "id": "73edbf28",
   "metadata": {},
   "outputs": [],
   "source": []
  },
  {
   "cell_type": "code",
   "execution_count": null,
   "id": "9464b2f1",
   "metadata": {},
   "outputs": [],
   "source": [
    "%%manim -qh -v WARNING MyExampleScene\n",
    "from manimlib import *\n",
    "from manim import *\n",
    "\n",
    "class MyExampleScene(Scene):         \n",
    "    def construct(self):\n",
    "        current1 = Current(LEFT * 2.5)\n",
    "        current2 = Current(RIGHT * 2.5, direction=IN)\n",
    "        field = MyField(current1, current2)\n",
    "        self.add(field, current1, current2)\n",
    "        \n",
    "        func = lambda p: field.field_func(p)\n",
    "        \n",
    "#         stream_lines = StreamLines(func, stroke_width=3, max_anchors_per_line=30)\n",
    "#         self.add(stream_lines)\n",
    "#         stream_lines.start_animation(warm_up=False, flow_speed=1.5)\n",
    "#         self.wait(stream_lines.virtual_time / stream_lines.flow_speed)\n",
    "\n",
    "        stream_lines = StreamLines(\n",
    "            func,         \n",
    "            dt=0.2,\n",
    "            virtual_time=10,\n",
    "            stroke_width=3,\n",
    "            stroke_color=GREY_A,\n",
    "            )\n",
    "        animated_lines = AnimatedStreamLines(stream_lines)\n",
    "            \n",
    "        self.add(animated_lines)\n",
    "        self.wait(5)"
   ]
  }
 ],
 "metadata": {
  "kernelspec": {
   "display_name": "Python 3",
   "language": "python",
   "name": "python3"
  },
  "language_info": {
   "codemirror_mode": {
    "name": "ipython",
    "version": 3
   },
   "file_extension": ".py",
   "mimetype": "text/x-python",
   "name": "python",
   "nbconvert_exporter": "python",
   "pygments_lexer": "ipython3",
   "version": "3.8.8"
  }
 },
 "nbformat": 4,
 "nbformat_minor": 5
}
