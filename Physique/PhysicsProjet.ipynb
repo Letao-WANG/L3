{
 "cells": [
  {
   "cell_type": "code",
   "execution_count": 10,
   "id": "03a9da1a",
   "metadata": {},
   "outputs": [],
   "source": [
    "from manim import *"
   ]
  },
  {
   "cell_type": "code",
   "execution_count": null,
   "id": "4db23b91",
   "metadata": {},
   "outputs": [],
   "source": [
    "%%manim -ql -v WARNING PhysicsProject\n",
    "\n",
    "class PhysicsProject(Scene):\n",
    "    def construct(self):\n",
    "        charge1 = Charge(1, UP)\n",
    "        charge2 = Charge(-1, DOWN)\n",
    "        field = ElectricField(charge1, charge2)\n",
    "        self.add(charge1, charge2, field)"
   ]
  },
  {
   "cell_type": "code",
   "execution_count": null,
   "id": "f6b80830",
   "metadata": {},
   "outputs": [],
   "source": []
  },
  {
   "cell_type": "code",
   "execution_count": 75,
   "id": "af9832fd",
   "metadata": {},
   "outputs": [
    {
     "name": "stderr",
     "output_type": "stream",
     "text": [
      "                                                                                                                       \r"
     ]
    },
    {
     "data": {
      "text/html": [
       "<video src=\"media\\jupyter\\FirstScene@2021-12-05@20-31-40.mp4\" controls autoplay loop style=\"max-width: 25vw;\"  >\n",
       "      Your browser does not support the <code>video</code> element.\n",
       "    </video>"
      ],
      "text/plain": [
       "<IPython.core.display.Video object>"
      ]
     },
     "metadata": {},
     "output_type": "display_data"
    }
   ],
   "source": [
    "%%manim -ql -v WARNING FirstScene\n",
    "\n",
    "class FirstScene(Scene):\n",
    "    def construct(self):\n",
    "        text0 = Tex(r\"Les équations de Maxwell\", font_size=60).shift(2*UP)\n",
    "        text1 = Tex(r\" - Maxwell Gauss \\quad\\quad\\quad\\quad\\quad\\quad $\\operatorname{div} \\vec{E}=\\frac{\\rho}{\\epsilon_{0}}$\", font_size=36).next_to(text0, DOWN*2, aligned_edge=LEFT)\n",
    "        text2 = Tex(r\"- Maxwell flux magnétique \\quad\\quad $\\operatorname{div} \\vec{B}=0$\", font_size=36).next_to(text1, DOWN, aligned_edge=LEFT)\n",
    "        text3 = Tex(r\"- Maxwell Faraday \\quad\\quad\\quad\\quad\\quad$\\overrightarrow{r o t} \\vec{E}=-\\frac{\\partial \\vec{B}}{\\partial t}$\", font_size=36).next_to(text2, DOWN, aligned_edge=LEFT)\n",
    "        text4 = Tex(r\"- Maxwell Ampère \\quad\\quad\\quad\\quad\\quad$\\overrightarrow{r o t} \\vec{B}=\\mu_{0} \\vec{j}+\\mu_{0} \\epsilon_{0} \\frac{\\partial \\vec{E}}{\\partial t}$\", font_size=36).next_to(text3, DOWN, aligned_edge=LEFT)\n",
    "#         self.add(text0, text1, text2, text3, text4)\n",
    "        self.add(text0)\n",
    "        self.wait(5)\n",
    "        self.play(Write(text1))\n",
    "        self.wait(5)\n",
    "        self.play(Write(text2))\n",
    "        self.wait(5)\n",
    "        self.play(Write(text3))\n",
    "        self.wait(5)\n",
    "        self.play(Write(text4))\n",
    "        self.wait(5)\n",
    "        framebox1 = SurroundingRectangle(text1, buff = .1)\n",
    "        self.play(Create(framebox1))\n",
    "        self.wait()"
   ]
  },
  {
   "cell_type": "code",
   "execution_count": 73,
   "id": "f15b4576",
   "metadata": {},
   "outputs": [
    {
     "name": "stderr",
     "output_type": "stream",
     "text": [
      "                                                                                                                       \r"
     ]
    },
    {
     "data": {
      "text/html": [
       "<video src=\"media\\jupyter\\ElectricFieldExampleScene@2021-12-05@20-29-49.mp4\" controls autoplay loop style=\"max-width: 25vw;\"  >\n",
       "      Your browser does not support the <code>video</code> element.\n",
       "    </video>"
      ],
      "text/plain": [
       "<IPython.core.display.Video object>"
      ]
     },
     "metadata": {},
     "output_type": "display_data"
    }
   ],
   "source": [
    "%%manim -qm -v WARNING ElectricFieldExampleScene\n",
    "\n",
    "class ElectricFieldExampleScene(Scene):\n",
    "    def construct(self):\n",
    "        charge1 = Charge(2, ORIGIN)\n",
    "        field = ElectricField(charge1)\n",
    "        self.add(charge1)\n",
    "        self.add(field)\n",
    "        \n",
    "        circle = Circle(radius=1, color=WHITE).shift(ORIGIN)\n",
    "        self.play(FadeIn(circle))\n",
    "        \n",
    "        text1 = MathTex(r\"\\xrightarrow{x^6y^8}\", font_size=72).shift(UR*2)\n",
    "        text2 = Tex(r\"$\\xrightarrow{x^6y^8}$\", font_size=72).next_to(text1, DOWN)\n",
    "        self.add(VGroup(text1, text2))\n",
    "        \n",
    "        self.wait(1)\n",
    "#         func = lambda p: field.field_func(p)\n",
    "#         stream_lines = StreamLines(func, stroke_width=3, max_anchors_per_line=30)\n",
    "#         self.add(stream_lines)\n",
    "#         stream_lines.start_animation(warm_up=False, flow_speed=1.5)\n",
    "#         self.wait(4)"
   ]
  },
  {
   "cell_type": "code",
   "execution_count": null,
   "id": "96fc0e4e",
   "metadata": {},
   "outputs": [],
   "source": []
  },
  {
   "cell_type": "code",
   "execution_count": null,
   "id": "d9f50590",
   "metadata": {},
   "outputs": [],
   "source": []
  },
  {
   "cell_type": "code",
   "execution_count": null,
   "id": "9fde82a3",
   "metadata": {},
   "outputs": [],
   "source": []
  },
  {
   "cell_type": "code",
   "execution_count": null,
   "id": "ffe062a0",
   "metadata": {},
   "outputs": [],
   "source": []
  }
 ],
 "metadata": {
  "kernelspec": {
   "display_name": "Python 3",
   "language": "python",
   "name": "python3"
  },
  "language_info": {
   "codemirror_mode": {
    "name": "ipython",
    "version": 3
   },
   "file_extension": ".py",
   "mimetype": "text/x-python",
   "name": "python",
   "nbconvert_exporter": "python",
   "pygments_lexer": "ipython3",
   "version": "3.8.8"
  }
 },
 "nbformat": 4,
 "nbformat_minor": 5
}
