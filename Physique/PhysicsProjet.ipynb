{
 "cells": [
  {
   "cell_type": "code",
   "execution_count": 91,
   "id": "03a9da1a",
   "metadata": {},
   "outputs": [],
   "source": [
    "from manim import *"
   ]
  },
  {
   "cell_type": "code",
   "execution_count": 92,
   "id": "8a43b975",
   "metadata": {},
   "outputs": [],
   "source": [
    "class Charge(VGroup):\n",
    "    def __init__(self, magnitude=1, point=ORIGIN, add_glow=True, **kwargs):\n",
    "        VGroup.__init__(self, **kwargs)\n",
    "        self.magnitude = magnitude\n",
    "        self.point = point\n",
    "        self.radius = (abs(magnitude) * 0.4 if abs(magnitude) < 2 else 0.8) * 0.3\n",
    "\n",
    "        if magnitude > 0:\n",
    "            label = VGroup(\n",
    "                Rectangle(width=0.32 * 1.1, height=0.006 * 1.1).set_z_index(1),\n",
    "                Rectangle(width=0.006 * 1.1, height=0.32 * 1.1).set_z_index(1),\n",
    "            )\n",
    "            color = RED\n",
    "            layer_colors = [RED_D, RED_A]\n",
    "            layer_radius = 4\n",
    "        else:\n",
    "            label = Rectangle(width=0.27, height=0.003)\n",
    "            color = BLUE\n",
    "            layer_colors = [\"#3399FF\", \"#66B2FF\"]\n",
    "            layer_radius = 2\n",
    "\n",
    "        if add_glow:  # use many arcs to simulate glowing\n",
    "            layer_num = 80\n",
    "            color_list = color_gradient(layer_colors, layer_num)\n",
    "            opacity_func = lambda t: 1500 * (1 - abs(t - 0.009) ** 0.0001)\n",
    "            rate_func = lambda t: t ** 2\n",
    "\n",
    "            for i in range(layer_num):\n",
    "                self.add(\n",
    "                    Arc(\n",
    "                        radius=layer_radius * rate_func((0.5 + i) / layer_num),\n",
    "                        angle=TAU,\n",
    "                        color=color_list[i],\n",
    "                        stroke_width=101\n",
    "                        * (rate_func((i + 1) / layer_num) - rate_func(i / layer_num))\n",
    "                        * layer_radius,\n",
    "                        stroke_opacity=opacity_func(rate_func(i / layer_num)),\n",
    "                    ).shift(point)\n",
    "                )\n",
    "\n",
    "        self.add(Dot(point=self.point, radius=self.radius, color=color))\n",
    "        self.add(label.scale(self.radius / 0.3).shift(point))\n",
    "        for mob in self:\n",
    "            mob.set_z_index(1)\n",
    "\n",
    "\n",
    "class ElectricField(ArrowVectorField):\n",
    "    def __init__(self, *charges: Charge, **kwargs):\n",
    "        self.charges = charges\n",
    "        super().__init__(\n",
    "            lambda p: self.field_func(p),\n",
    "            **kwargs\n",
    "        )\n",
    "\n",
    "    def field_func(self, p):\n",
    "        direction = np.zeros(3)\n",
    "        pos = []\n",
    "        for charge in self.charges:\n",
    "            p0, mag = charge.get_center(), charge.magnitude\n",
    "            pos.append(p0)\n",
    "            x, y, z = p - p0\n",
    "            dist = (x ** 2 + y ** 2) ** 1.5\n",
    "            if any((p - p0) ** 2 > 0.05):\n",
    "                direction += mag * np.array([x / dist, y / dist, 0])\n",
    "            else:\n",
    "                direction += np.zeros(3)\n",
    "        for p0 in pos:\n",
    "            if all((p - p0) ** 2 <= 0.05):\n",
    "                direction = np.zeros(3)\n",
    "        return direction\n",
    "\n",
    "class Current(VGroup):\n",
    "    def __init__(self, magnitude=1, point=ORIGIN, add_glow=True, **kwargs):\n",
    "        VGroup.__init__(self, **kwargs)\n",
    "        self.magnitude = magnitude\n",
    "        self.point = point\n",
    "        self.radius = (abs(magnitude) * 0.4 if abs(magnitude) < 2 else 0.8) * 0.3\n",
    "\n",
    "        if magnitude > 0:\n",
    "            label = Dot(radius=0.2)\n",
    "        else:\n",
    "            label = VGroup(\n",
    "                Line(ORIGIN, UR).move_to(ORIGIN),\n",
    "                Line(ORIGIN, UL).move_to(ORIGIN),\n",
    "            )\n",
    "        self.add(Circle(color=WHITE), label).scale(0.2).shift(point)\n",
    "        for mob in self:\n",
    "            mob.set_z_index(1)\n",
    "            \n",
    "class MagneticField(ArrowVectorField):\n",
    "    def __init__(self, *currents: Current, **kwargs):\n",
    "        self.currents = currents\n",
    "        super().__init__(\n",
    "            lambda p: self.field_func(p),\n",
    "            **kwargs\n",
    "        )\n",
    "\n",
    "    def field_func(self, p):\n",
    "        direction = np.zeros(3)\n",
    "        pos = []\n",
    "        for current in self.currents:\n",
    "            p0, mag = current.get_center(), current.magnitude\n",
    "            pos.append(p0)\n",
    "            x, y, z = p - p0\n",
    "            dist = (x ** 2 + y ** 2) ** 1.5\n",
    "            if any((p - p0) ** 2 >= 0.25):\n",
    "                direction += mag * np.array([- y / dist, x / dist, 0])\n",
    "        for p0 in pos:\n",
    "            if all((p - p0) ** 2 < 0.25):\n",
    "                direction = np.zeros(3)\n",
    "        return direction"
   ]
  },
  {
   "cell_type": "code",
   "execution_count": null,
   "id": "3bfcc100",
   "metadata": {},
   "outputs": [],
   "source": []
  },
  {
   "cell_type": "code",
   "execution_count": null,
   "id": "f6b80830",
   "metadata": {},
   "outputs": [],
   "source": []
  },
  {
   "cell_type": "code",
   "execution_count": 76,
   "id": "af9832fd",
   "metadata": {},
   "outputs": [
    {
     "name": "stderr",
     "output_type": "stream",
     "text": [
      "                                                                                                                       \r"
     ]
    },
    {
     "data": {
      "text/html": [
       "<video src=\"media\\jupyter\\FirstScene@2021-12-07@18-24-07.mp4\" controls autoplay loop style=\"max-width: 25vw;\"  >\n",
       "      Your browser does not support the <code>video</code> element.\n",
       "    </video>"
      ],
      "text/plain": [
       "<IPython.core.display.Video object>"
      ]
     },
     "metadata": {},
     "output_type": "display_data"
    }
   ],
   "source": [
    "%%manim -ql -v WARNING FirstScene\n",
    "\n",
    "class FirstScene(Scene):\n",
    "    def construct(self):\n",
    "        text0 = Tex(r\"Les équations de Maxwell\", font_size=60).shift(2*UP)\n",
    "        text1 = Tex(r\" - Maxwell Gauss \\quad\\quad\\quad\\quad\\quad\\quad $\\operatorname{div} \\vec{E}=\\frac{\\rho}{\\epsilon_{0}}$\", font_size=36).next_to(text0, DOWN*2, aligned_edge=LEFT)\n",
    "        text2 = Tex(r\"- Maxwell flux magnétique \\quad\\quad $\\operatorname{div} \\vec{B}=0$\", font_size=36).next_to(text1, DOWN, aligned_edge=LEFT)\n",
    "        text3 = Tex(r\"- Maxwell Faraday \\quad\\quad\\quad\\quad\\quad$\\overrightarrow{r o t} \\vec{E}=-\\frac{\\partial \\vec{B}}{\\partial t}$\", font_size=36).next_to(text2, DOWN, aligned_edge=LEFT)\n",
    "        text4 = Tex(r\"- Maxwell Ampère \\quad\\quad\\quad\\quad\\quad$\\overrightarrow{r o t} \\vec{B}=\\mu_{0} \\vec{j}+\\mu_{0} \\epsilon_{0} \\frac{\\partial \\vec{E}}{\\partial t}$\", font_size=36).next_to(text3, DOWN, aligned_edge=LEFT)\n",
    "#         self.add(text0, text1, text2, text3, text4)\n",
    "        time = 3\n",
    "        self.add(text0)\n",
    "        self.wait(time)\n",
    "        self.play(Write(text1))\n",
    "        self.wait(time)\n",
    "        self.play(Write(text2))\n",
    "        self.wait(time)\n",
    "        self.play(Write(text3))\n",
    "        self.wait(time)\n",
    "        self.play(Write(text4))\n",
    "        self.wait(time)\n",
    "        framebox1 = SurroundingRectangle(text1, buff = .1)\n",
    "        self.play(Create(framebox1))\n",
    "        self.wait(time)"
   ]
  },
  {
   "cell_type": "code",
   "execution_count": 88,
   "id": "f15b4576",
   "metadata": {},
   "outputs": [
    {
     "name": "stderr",
     "output_type": "stream",
     "text": [
      "                                                                                                                       \r"
     ]
    },
    {
     "data": {
      "text/html": [
       "<video src=\"media\\jupyter\\ElectricFieldExampleScene@2021-12-08@23-52-24.mp4\" controls autoplay loop style=\"max-width: 25vw;\"  >\n",
       "      Your browser does not support the <code>video</code> element.\n",
       "    </video>"
      ],
      "text/plain": [
       "<IPython.core.display.Video object>"
      ]
     },
     "metadata": {},
     "output_type": "display_data"
    }
   ],
   "source": [
    "%%manim -qm -v WARNING ElectricFieldExampleScene\n",
    "\n",
    "class ElectricFieldExampleScene(Scene):\n",
    "    def construct(self):\n",
    "        charge1 = Charge(2, ORIGIN)\n",
    "        field = ElectricField(charge1)\n",
    "        self.add(charge1)\n",
    "        self.add(field)\n",
    "        \n",
    "        circle = Circle(radius=1, fill_opacity=0.2).shift(ORIGIN)\n",
    "        \n",
    "        font = 48\n",
    "        time = 1\n",
    "        text1 = Tex(r\" - Maxwell Gauss \\quad\\quad $\\operatorname{div} \\vec{E}=\\frac{\\rho}{\\epsilon_{0}}$\", font_size=font).shift(3*UL )\n",
    "        text2 = Tex(r\"$\\vec{\\nabla} \\wedge \\vec{E}=-\\frac{\\partial \\vec{B}}{\\partial t}$\", font_size=font).next_to(text1, DOWN, aligned_edge=LEFT)\n",
    "        text3 = Tex(r\"$\\oint_{\\Sigma} \\vec{E} \\cdot \\mathrm{d} \\vec{S}=\\frac{Q_{\\text {int }}}{\\varepsilon_{0}}$\", font_size=font).next_to(text2, DOWN, aligned_edge=LEFT)\n",
    "\n",
    "        self.play(Write(text1))\n",
    "        self.wait(time)\n",
    "        self.play(Write(text2))\n",
    "        self.wait(time)\n",
    "        self.play(Write(text3))\n",
    "        self.wait(time)\n",
    "        framebox1 = SurroundingRectangle(text3, buff = .1)\n",
    "        self.play(Create(framebox1))\n",
    "        \n",
    "        self.play(Create(circle))\n",
    "        \n",
    "    \n",
    "        self.wait(1)\n",
    "        func = lambda p: field.field_func(p)\n",
    "        stream_lines = StreamLines(func, stroke_width=3, max_anchors_per_line=30)\n",
    "        self.add(stream_lines)\n",
    "        stream_lines.start_animation(warm_up=False, flow_speed=0.5)\n",
    "        self.wait(stream_lines.virtual_time / stream_lines.flow_speed)\n",
    "\n",
    "        self.wait(time)\n",
    "        "
   ]
  },
  {
   "cell_type": "code",
   "execution_count": 90,
   "id": "96fc0e4e",
   "metadata": {},
   "outputs": [
    {
     "name": "stderr",
     "output_type": "stream",
     "text": [
      "                                                                                                                         0%| | 0/1 [00:00<\r"
     ]
    },
    {
     "data": {
      "text/html": [
       "<video src=\"media\\jupyter\\ElectricFieldExampleScene@2021-12-08@23-53-25.mp4\" controls autoplay loop style=\"max-width: 25vw;\"  >\n",
       "      Your browser does not support the <code>video</code> element.\n",
       "    </video>"
      ],
      "text/plain": [
       "<IPython.core.display.Video object>"
      ]
     },
     "metadata": {},
     "output_type": "display_data"
    }
   ],
   "source": [
    "%%manim -ql -v WARNING ElectricFieldExampleScene\n",
    "\n",
    "class ElectricFieldExampleScene(Scene):\n",
    "    def construct(self):\n",
    "        current1 = Current(1, UP)\n",
    "        current2 = Current(-1, ORIGIN)\n",
    "        field = MagneticField(current1, current2)\n",
    "        self.add(current1, current2, field)\n",
    "        \n",
    "        circle = Circle(radius=1, color=RED, fill_opacity=0.2).shift(UP*0.5)\n",
    "        font = 48\n",
    "        time = 1\n",
    "        text1 = Tex(r\"- Maxwell flux magnétique \\quad\\quad $\\operatorname{div} \\vec{B}=0$\", font_size=font).shift(3*UL+RIGHT )\n",
    "        text2 = Tex(r\"$\\vec{\\nabla} \\cdot \\vec{B}=0$\", font_size=font).next_to(text1, DOWN, aligned_edge=LEFT)\n",
    "        text3 = Tex(r\"$\\oint_{\\Sigma} \\vec{B} \\cdot \\mathrm{d} \\vec{S}=0$\", font_size=font).next_to(text2, DOWN, aligned_edge=LEFT)\n",
    "\n",
    "#         self.add(text1, text2, text3)\n",
    "        self.play(Write(text1))\n",
    "        self.wait(time)\n",
    "        self.play(Write(text2))\n",
    "        self.wait(time)\n",
    "        self.play(Write(text3))\n",
    "        self.wait(time)\n",
    "        framebox1 = SurroundingRectangle(text3, buff = .1)\n",
    "        self.play(Create(framebox1))\n",
    "        \n",
    "        self.play(Create(circle))\n",
    "        self.wait(time)\n",
    "\n",
    "\n",
    "        func = lambda p: field.field_func(p)\n",
    "        stream_lines = StreamLines(func, stroke_width=3, max_anchors_per_line=30)\n",
    "        self.add(stream_lines)\n",
    "        stream_lines.start_animation(warm_up=False, flow_speed=1.5)\n",
    "        self.wait(stream_lines.virtual_time / stream_lines.flow_speed)\n",
    "\n",
    "        self.wait(time)"
   ]
  },
  {
   "cell_type": "code",
   "execution_count": 86,
   "id": "d9f50590",
   "metadata": {},
   "outputs": [
    {
     "name": "stderr",
     "output_type": "stream",
     "text": [
      "                                                                                                                       \r"
     ]
    },
    {
     "data": {
      "text/html": [
       "<video src=\"media\\jupyter\\FaradayScene@2021-12-08@23-46-10.mp4\" controls autoplay loop style=\"max-width: 25vw;\"  >\n",
       "      Your browser does not support the <code>video</code> element.\n",
       "    </video>"
      ],
      "text/plain": [
       "<IPython.core.display.Video object>"
      ]
     },
     "metadata": {},
     "output_type": "display_data"
    }
   ],
   "source": [
    "%%manim -ql -v WARNING FaradayScene\n",
    "from manim import *\n",
    "\n",
    "class FaradayScene(ThreeDScene):\n",
    "    def construct(self):\n",
    "        \n",
    "        font = 36\n",
    "        time = 1\n",
    "        text1 = Tex(r\"- Maxwell Faraday \\quad $\\overrightarrow{r o t} \\vec{E}=-\\frac{\\partial \\vec{B}}{\\partial t}$\", font_size=font).shift(3*UL+RIGHT )\n",
    "        text2 = Tex(r\"$\\vec{\\nabla} \\cdot \\vec{B}=0$\", font_size=font).next_to(text1, DOWN, aligned_edge=LEFT)\n",
    "        text3 = Tex(r\"$\\oint_{C} \\vec{E} \\cdot \\mathrm{d} \\vec{\\ell}=-\\frac{\\mathrm{d}}{\\mathrm{d} t}\\left(\\int_{S} \\vec{B} \\cdot \\mathrm{d} \\vec{S}\\right)$\", font_size=font).next_to(text2, DOWN, aligned_edge=LEFT)\n",
    "\n",
    "        self.add_fixed_in_frame_mobjects(text1, text2, text3)\n",
    "        text1.to_corner(UL)\n",
    "        text2.to_corner().next_to(text1, DOWN, aligned_edge=LEFT)\n",
    "        text3.to_corner().next_to(text2, DOWN, aligned_edge=LEFT)\n",
    "\n",
    "        axes = ThreeDAxes()\n",
    "        circle = Circle(radius=1.5, fill_opacity=0.5).shift(ORIGIN)\n",
    "        \n",
    "        self.set_camera_orientation(phi=75 * DEGREES, theta=30 * DEGREES)\n",
    "        resolution_fa = 42\n",
    "        self.set_camera_orientation(phi=75 * DEGREES, theta=-30 * DEGREES)\n",
    "\n",
    "        def param_gauss(u, v):\n",
    "            x = u\n",
    "            y = v\n",
    "            sigma, mu = 0.4, [0.0, 0.0]\n",
    "            d = np.linalg.norm(np.array([x - mu[0], y - mu[1]]))\n",
    "            z = np.exp(-(d ** 1 / (2.0 * sigma ** 2)))\n",
    "            return np.array([x, y, z])\n",
    "        \n",
    "        magnet = Circle(radius=0.3, color=BLUE, fill_opacity=1).shift(OUT*3)\n",
    "        gauss_plane = Surface(\n",
    "            param_gauss,\n",
    "            resolution=(resolution_fa, resolution_fa),\n",
    "            v_range=[-0.5, +0.5],\n",
    "            u_range=[-0.5, +0.5]\n",
    "        )\n",
    "\n",
    "        gauss_plane.scale(2, about_point=ORIGIN)\n",
    "        gauss_plane.set_style(fill_opacity=0.1,stroke_color=BLUE)\n",
    "        gauss_plane.set_fill_by_checkerboard(ORANGE, BLUE, opacity=0.1)\n",
    "        gauss_plane.shift(OUT)\n",
    "        self.add(axes,gauss_plane)\n",
    "        self.add(circle, magnet)\n",
    "        \n",
    "        group = VGroup(magnet, gauss_plane)\n",
    "        \n",
    "        self.play(group.animate.shift(IN))\n",
    "        self.wait(1)\n",
    "        self.play(group.animate.shift(IN))\n",
    "        self.wait(1)\n",
    "        self.play(group.animate.shift(OUT))\n",
    "        self.wait(1)\n",
    "        self.play(group.animate.shift(OUT))\n",
    "        \n"
   ]
  },
  {
   "cell_type": "code",
   "execution_count": 74,
   "id": "9fde82a3",
   "metadata": {},
   "outputs": [],
   "source": [
    "# %%manim -ql -v WARNING FaradayScene\n",
    "# from manim import *\n",
    "\n",
    "class FaradayTextScene(Scene):\n",
    "    def construct(self):\n",
    "        font = 48\n",
    "        time = 1\n",
    "        text1 = Tex(r\"- Maxwell Faraday \\quad\\quad $\\overrightarrow{r o t} \\vec{E}=-\\frac{\\partial \\vec{B}}{\\partial t}$\", font_size=font).shift(3*UL+RIGHT )\n",
    "        text2 = Tex(r\"$\\vec{\\nabla} \\cdot \\vec{B}=0$\", font_size=font).next_to(text1, DOWN, aligned_edge=LEFT)\n",
    "        text3 = Tex(r\"$\\oint_{C} \\vec{E} \\cdot \\mathrm{d} \\vec{\\ell}=-\\frac{\\mathrm{d}}{\\mathrm{d} t}\\left(\\int_{S} \\vec{B} \\cdot \\mathrm{d} \\vec{S}\\right)$\", font_size=font).next_to(text2, DOWN, aligned_edge=LEFT)\n",
    "\n",
    "#         self.add(text1, text2, text3)\n",
    "        self.play(Write(text1))\n",
    "        self.wait(time)\n",
    "        self.play(Write(text2))\n",
    "        self.wait(time)\n",
    "        self.play(Write(text3))\n",
    "        self.wait(time)\n",
    "        framebox1 = SurroundingRectangle(text3, buff = .1)\n",
    "        self.play(Create(framebox1))"
   ]
  },
  {
   "cell_type": "code",
   "execution_count": 102,
   "id": "f992bb89",
   "metadata": {},
   "outputs": [
    {
     "name": "stderr",
     "output_type": "stream",
     "text": [
      "                                                                                                                       \r"
     ]
    },
    {
     "data": {
      "text/html": [
       "<video src=\"media\\jupyter\\AmpereScene@2021-12-09@20-14-45.mp4\" controls autoplay loop style=\"max-width: 25vw;\"  >\n",
       "      Your browser does not support the <code>video</code> element.\n",
       "    </video>"
      ],
      "text/plain": [
       "<IPython.core.display.Video object>"
      ]
     },
     "metadata": {},
     "output_type": "display_data"
    }
   ],
   "source": [
    "%%manim -ql -v WARNING AmpereScene\n",
    "\n",
    "class AmpereScene(Scene):\n",
    "    def construct(self):\n",
    "        current1 = Current(1, UP)\n",
    "        current2 = Current(-1, ORIGIN)\n",
    "        field = MagneticField(current1, current2)\n",
    "#         self.add(current1, current2, field)\n",
    "        \n",
    "        circle = Circle(radius=1, color=RED, fill_opacity=0.2).shift(UP*0.5)\n",
    "        font = 48\n",
    "        time = 1\n",
    "        text1 = Tex(r\"- Maxwell Ampère \\quad$\\overrightarrow{r o t} \\vec{B}=\\mu_{0} \\vec{j}+\\mu_{0} \\epsilon_{0} \\frac{\\partial \\vec{E}}{\\partial t}$\", font_size=font).shift(3*UL+RIGHT*2 )\n",
    "        text2 = Tex(r\"$\\oint_{C} \\vec{B} \\cdot \\mathrm{d} \\vec{\\ell}=\\mu_{0} \\int_{S} \\vec{j} \\cdot \\mathrm{d} \\vec{S}+\\varepsilon_{0} \\mu_{0} \\int_{S} \\frac{\\partial \\vec{E}}{\\partial t} \\cdot \\mathrm{d} \\vec{S}$\", font_size=font).next_to(text1, DOWN, aligned_edge=LEFT)\n",
    "        text3 = Tex(r\"$I=\\int_{S} \\vec{j} \\cdot \\overrightarrow{\\mathrm{d} S}$\", font_size=font).next_to(text2, DOWN, aligned_edge=LEFT)\n",
    "        text4 = Tex(r\"$\\oint_{C} \\vec{B} \\cdot \\mathrm{d} \\vec{\\ell}=\\mu_{0} I+\\varepsilon_{0} \\mu_{0}\\frac{\\partial }{\\partial t} \\int_{S} \\vec{E} \\cdot \\mathrm{d} \\vec{S}$\", font_size=font).next_to(text3, DOWN, aligned_edge=LEFT)\n",
    "\n",
    "#         self.add(text1, text2, text3, text4)\n",
    "        self.play(Write(text1))\n",
    "        self.wait(time)\n",
    "        self.play(Write(text2))\n",
    "        self.wait(time)\n",
    "        self.play(Write(text3))\n",
    "        self.wait(time)\n",
    "        self.play(Write(text4))\n",
    "        self.wait(time)\n",
    "        framebox1 = SurroundingRectangle(text4, buff = .1)\n",
    "        self.play(Create(framebox1))\n",
    "        \n",
    "#         self.play(Create(circle))\n",
    "        self.wait(time)\n",
    "\n",
    "\n",
    "#         func = lambda p: field.field_func(p)\n",
    "#         stream_lines = StreamLines(func, stroke_width=3, max_anchors_per_line=30)\n",
    "#         self.add(stream_lines)\n",
    "#         stream_lines.start_animation(warm_up=False, flow_speed=1.5)\n",
    "#         self.wait(stream_lines.virtual_time / stream_lines.flow_speed)\n",
    "\n",
    "#         self.wait(time)"
   ]
  },
  {
   "cell_type": "code",
   "execution_count": null,
   "id": "ffe062a0",
   "metadata": {},
   "outputs": [],
   "source": []
  }
 ],
 "metadata": {
  "kernelspec": {
   "display_name": "Python 3",
   "language": "python",
   "name": "python3"
  },
  "language_info": {
   "codemirror_mode": {
    "name": "ipython",
    "version": 3
   },
   "file_extension": ".py",
   "mimetype": "text/x-python",
   "name": "python",
   "nbconvert_exporter": "python",
   "pygments_lexer": "ipython3",
   "version": "3.8.8"
  }
 },
 "nbformat": 4,
 "nbformat_minor": 5
}
