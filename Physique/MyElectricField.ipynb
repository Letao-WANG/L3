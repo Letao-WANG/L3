{
 "cells": [
  {
   "cell_type": "code",
   "execution_count": 1,
   "id": "c21244f7",
   "metadata": {},
   "outputs": [
    {
     "data": {
      "text/html": [
       "<pre style=\"white-space:pre;overflow-x:auto;line-height:normal;font-family:Menlo,'DejaVu Sans Mono',consolas,'Courier New',monospace\">Manim Community <span style=\"color: #008000; text-decoration-color: #008000\">v0.12.0</span>\n",
       "\n",
       "</pre>\n"
      ],
      "text/plain": [
       "Manim Community \u001b[32mv0.\u001b[0m\u001b[32m12.0\u001b[0m\n",
       "\n"
      ]
     },
     "metadata": {},
     "output_type": "display_data"
    }
   ],
   "source": [
    "from manim import *\n",
    "from typing import Sequence"
   ]
  },
  {
   "cell_type": "code",
   "execution_count": 2,
   "id": "893e29c3",
   "metadata": {},
   "outputs": [],
   "source": [
    "class Charge(VGroup):\n",
    "    def __init__(self, magnitude=1, point=ORIGIN, add_glow=True, **kwargs):\n",
    "        VGroup.__init__(self, **kwargs)\n",
    "        self.magnitude = magnitude\n",
    "        self.point = point\n",
    "        self.radius = (abs(magnitude) * 0.4 if abs(magnitude) < 2 else 0.8) * 0.3\n",
    "\n",
    "        if magnitude > 0:\n",
    "            label = VGroup(\n",
    "                Rectangle(width=0.32 * 1.1, height=0.006 * 1.1).set_z_index(1),\n",
    "                Rectangle(width=0.006 * 1.1, height=0.32 * 1.1).set_z_index(1),\n",
    "            )\n",
    "            color = RED\n",
    "            layer_colors = [RED_D, RED_A]\n",
    "            layer_radius = 4\n",
    "        else:\n",
    "            label = Rectangle(width=0.27, height=0.003)\n",
    "            color = BLUE\n",
    "            layer_colors = [\"#3399FF\", \"#66B2FF\"]\n",
    "            layer_radius = 2\n",
    "\n",
    "        if add_glow:  # use many arcs to simulate glowing\n",
    "            layer_num = 80\n",
    "            color_list = color_gradient(layer_colors, layer_num)\n",
    "            opacity_func = lambda t: 1500 * (1 - abs(t - 0.009) ** 0.0001)\n",
    "            rate_func = lambda t: t ** 2\n",
    "\n",
    "            for i in range(layer_num):\n",
    "                self.add(\n",
    "                    Arc(\n",
    "                        radius=layer_radius * rate_func((0.5 + i) / layer_num),\n",
    "                        angle=TAU,\n",
    "                        color=color_list[i],\n",
    "                        stroke_width=101\n",
    "                        * (rate_func((i + 1) / layer_num) - rate_func(i / layer_num))\n",
    "                        * layer_radius,\n",
    "                        stroke_opacity=opacity_func(rate_func(i / layer_num)),\n",
    "                    ).shift(point)\n",
    "                )\n",
    "\n",
    "        self.add(Dot(point=self.point, radius=self.radius, color=color))\n",
    "        self.add(label.scale(self.radius / 0.3).shift(point))\n",
    "        for mob in self:\n",
    "            mob.set_z_index(1)\n",
    "\n",
    "\n",
    "class ElectricField(ArrowVectorField):\n",
    "    def __init__(self, *charges: Charge, **kwargs):\n",
    "        self.charges = charges\n",
    "        super().__init__(\n",
    "            lambda p: self.field_func(p),\n",
    "            **kwargs\n",
    "        )\n",
    "\n",
    "    def field_func(self, p):\n",
    "        direction = np.zeros(3)\n",
    "        pos = []\n",
    "        for charge in self.charges:\n",
    "            p0, mag = charge.get_center(), charge.magnitude\n",
    "            pos.append(p0)\n",
    "            x, y, z = p - p0\n",
    "            dist = (x ** 2 + y ** 2) ** 1.5\n",
    "            if any((p - p0) ** 2 > 0.05):\n",
    "                direction += mag * np.array([x / dist, y / dist, 0])\n",
    "        return direction"
   ]
  },
  {
   "cell_type": "code",
   "execution_count": 30,
   "id": "b72a1e77",
   "metadata": {},
   "outputs": [
    {
     "name": "stderr",
     "output_type": "stream",
     "text": [
      "                                                                                                                       \r"
     ]
    },
    {
     "data": {
      "text/html": [
       "<video src=\"media\\jupyter\\ElectricFieldExampleScene@2021-12-05@19-27-31.mp4\" controls autoplay loop style=\"max-width: 25vw;\"  >\n",
       "      Your browser does not support the <code>video</code> element.\n",
       "    </video>"
      ],
      "text/plain": [
       "<IPython.core.display.Video object>"
      ]
     },
     "metadata": {},
     "output_type": "display_data"
    }
   ],
   "source": [
    "%%manim -qm -v WARNING ElectricFieldExampleScene\n",
    "\n",
    "class ElectricFieldExampleScene(Scene):\n",
    "    def construct(self):\n",
    "        charge1 = Charge(2, LEFT)\n",
    "        field = ElectricField(charge1)\n",
    "        self.add(charge1)\n",
    "        self.add(field)\n",
    "        \n",
    "        circle = Circle(radius=1, color=WHITE).shift(LEFT)\n",
    "        self.play(FadeIn(circle))\n",
    "        \n",
    "        text1 = MathTex(r\"\\xrightarrow{x^6y^8}\", font_size=72).shift(UR*2)\n",
    "        text2 = Tex(r\"$\\xrightarrow{x^6y^8}$\", font_size=72).next_to(text1, DOWN)\n",
    "        self.add(VGroup(text1, text2))\n",
    "        \n",
    "        self.wait(1)\n",
    "#         func = lambda p: field.field_func(p)\n",
    "#         stream_lines = StreamLines(func, stroke_width=3, max_anchors_per_line=30)\n",
    "#         self.add(stream_lines)\n",
    "#         stream_lines.start_animation(warm_up=False, flow_speed=1.5)\n",
    "#         self.wait(4)"
   ]
  },
  {
   "cell_type": "code",
   "execution_count": null,
   "id": "2ff94ed2",
   "metadata": {},
   "outputs": [],
   "source": []
  },
  {
   "cell_type": "code",
   "execution_count": 3,
   "id": "f663c69d",
   "metadata": {},
   "outputs": [
    {
     "name": "stderr",
     "output_type": "stream",
     "text": [
      "                                                                                \r"
     ]
    },
    {
     "data": {
      "text/html": [
       "<video src=\"media/jupyter/ElectricFieldExampleScene@2021-12-08@16-29-54.mp4\" controls autoplay loop style=\"max-width: 60%;\"  >\n",
       "      Your browser does not support the <code>video</code> element.\n",
       "    </video>"
      ],
      "text/plain": [
       "<IPython.core.display.Video object>"
      ]
     },
     "metadata": {},
     "output_type": "display_data"
    }
   ],
   "source": [
    "%%manim -qh -v WARNING ElectricFieldExampleScene\n",
    "\n",
    "class ElectricFieldExampleScene(Scene):\n",
    "    def construct(self):\n",
    "        charge1 = Charge(2, LEFT*2.5)\n",
    "        charge2 = Charge(-2, RIGHT*2.5)\n",
    "        field = ElectricField(charge1, charge2)\n",
    "        self.add(charge1)\n",
    "        self.add(charge2)\n",
    "        self.add(field)\n",
    "        \n",
    "        func = lambda p: field.field_func(p)\n",
    "        stream_lines = StreamLines(func, stroke_width=3, max_anchors_per_line=30)\n",
    "        self.add(stream_lines)\n",
    "        stream_lines.start_animation(warm_up=False, flow_speed=1.5)\n",
    "        self.wait(4)"
   ]
  },
  {
   "cell_type": "code",
   "execution_count": null,
   "id": "8fc85d0f",
   "metadata": {},
   "outputs": [],
   "source": []
  },
  {
   "cell_type": "code",
   "execution_count": 5,
   "id": "29ccf21d",
   "metadata": {},
   "outputs": [
    {
     "name": "stderr",
     "output_type": "stream",
     "text": [
      "                                                                                                                       \r"
     ]
    },
    {
     "data": {
      "text/html": [
       "<video src=\"media\\jupyter\\MyExampleScene@2021-12-04@20-00-15.mp4\" controls autoplay loop style=\"max-width: 25vw;\"  >\n",
       "      Your browser does not support the <code>video</code> element.\n",
       "    </video>"
      ],
      "text/plain": [
       "<IPython.core.display.Video object>"
      ]
     },
     "metadata": {},
     "output_type": "display_data"
    }
   ],
   "source": [
    "%%manim -qh -v WARNING MyExampleScene\n",
    "from manim import *\n",
    "\n",
    "class MyExampleScene(Scene):         \n",
    "    def construct(self):\n",
    "        current1 = Current(LEFT * 2.5)\n",
    "        current2 = Current(RIGHT * 2.5, direction=IN)\n",
    "        field = MyField(current1, current2)\n",
    "        self.add(field, current1, current2)\n",
    "        \n",
    "        func = lambda p: field.field_func(p)\n",
    "\n",
    "#         stream_lines = StreamLines(\n",
    "#             func,         \n",
    "#             dt=0.2,\n",
    "#             virtual_time=10,\n",
    "#             stroke_width=3,\n",
    "#             stroke_color=GREY_A,\n",
    "#             )\n",
    "    \n",
    "        stream_lines = StreamLines(func, stroke_width=3, max_anchors_per_line=30)\n",
    "        self.add(stream_lines)\n",
    "        stream_lines.start_animation(warm_up=False, flow_speed=1.5)\n",
    "        self.wait(2)"
   ]
  },
  {
   "cell_type": "code",
   "execution_count": null,
   "id": "70c1f0b2",
   "metadata": {},
   "outputs": [],
   "source": []
  }
 ],
 "metadata": {
  "kernelspec": {
   "display_name": "Python 3 (ipykernel)",
   "language": "python",
   "name": "python3"
  },
  "language_info": {
   "codemirror_mode": {
    "name": "ipython",
    "version": 3
   },
   "file_extension": ".py",
   "mimetype": "text/x-python",
   "name": "python",
   "nbconvert_exporter": "python",
   "pygments_lexer": "ipython3",
   "version": "3.9.7"
  }
 },
 "nbformat": 4,
 "nbformat_minor": 5
}
