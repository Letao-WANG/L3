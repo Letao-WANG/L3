{
 "cells": [
  {
   "cell_type": "code",
   "execution_count": 8,
   "id": "44f93b08",
   "metadata": {},
   "outputs": [
    {
     "name": "stdout",
     "output_type": "stream",
     "text": [
      "[]\n"
     ]
    }
   ],
   "source": [
    "from sympy import *\n",
    "\n",
    "u = Symbol('u')\n",
    "d = Symbol('d')\n",
    "# R = Symbol('R')\n",
    "# f = -3/((x+a)**2+R**2)**(5/2) + 15*(x+a)**2/((x+a)**2+R**2)**(7/2) - 3/((x-a)**2+R**2)**(5/2) + 15*(x-a)**2/((x-a)**2+R**2)**(7/2)\n",
    "f = -3/((u+d)**2+1)**(5/2)+15*((u+d)**2)/((u+d**2+1)**(7/2))-3/(u**2+1)**(5/2)+15*u**2/(u**2+1)**(7/2)\n",
    "# f\n",
    "print (solve(f,[u]))"
   ]
  },
  {
   "cell_type": "code",
   "execution_count": null,
   "id": "030d2fec",
   "metadata": {},
   "outputs": [],
   "source": []
  },
  {
   "cell_type": "code",
   "execution_count": null,
   "id": "d3356f4b",
   "metadata": {},
   "outputs": [],
   "source": []
  }
 ],
 "metadata": {
  "kernelspec": {
   "display_name": "Python 3 (ipykernel)",
   "language": "python",
   "name": "python3"
  },
  "language_info": {
   "codemirror_mode": {
    "name": "ipython",
    "version": 3
   },
   "file_extension": ".py",
   "mimetype": "text/x-python",
   "name": "python",
   "nbconvert_exporter": "python",
   "pygments_lexer": "ipython3",
   "version": "3.9.7"
  }
 },
 "nbformat": 4,
 "nbformat_minor": 5
}
